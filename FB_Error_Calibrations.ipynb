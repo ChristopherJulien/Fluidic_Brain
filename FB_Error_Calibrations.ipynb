{
  "nbformat": 4,
  "nbformat_minor": 0,
  "metadata": {
    "colab": {
      "provenance": [],
      "authorship_tag": "ABX9TyPeUNEeKcrxL5wfJQjwtSHh",
      "include_colab_link": true
    },
    "kernelspec": {
      "name": "python3",
      "display_name": "Python 3"
    },
    "language_info": {
      "name": "python"
    }
  },
  "cells": [
    {
      "cell_type": "markdown",
      "metadata": {
        "id": "view-in-github",
        "colab_type": "text"
      },
      "source": [
        "<a href=\"https://colab.research.google.com/github/ChristopherJulien/Fluidic_Brain/blob/Directly_Saving_To_CSV/FB_Error_Calibrations.ipynb\" target=\"_parent\"><img src=\"https://colab.research.google.com/assets/colab-badge.svg\" alt=\"Open In Colab\"/></a>"
      ]
    },
    {
      "cell_type": "markdown",
      "source": [
        "# Setup and Data Mounting"
      ],
      "metadata": {
        "id": "ykhNsiH0py3d"
      }
    },
    {
      "cell_type": "code",
      "source": [],
      "metadata": {
        "id": "ljvSfcKHofrz"
      },
      "execution_count": 5,
      "outputs": []
    },
    {
      "cell_type": "markdown",
      "source": [
        "## Calibration Error for SLS-1500"
      ],
      "metadata": {
        "id": "skSpi2sSoG0-"
      }
    },
    {
      "cell_type": "markdown",
      "source": [
        "### Water"
      ],
      "metadata": {
        "id": "W5V78MU4ocs2"
      }
    },
    {
      "cell_type": "code",
      "source": [],
      "metadata": {
        "id": "TOlThuU7oaKa"
      },
      "execution_count": null,
      "outputs": []
    },
    {
      "cell_type": "markdown",
      "source": [
        "### Glycerol"
      ],
      "metadata": {
        "id": "taprKvZWovfD"
      }
    },
    {
      "cell_type": "code",
      "source": [],
      "metadata": {
        "id": "C_XL1w-kozdc"
      },
      "execution_count": null,
      "outputs": []
    },
    {
      "cell_type": "markdown",
      "source": [
        "##  Calibration Error for Fluigent M+"
      ],
      "metadata": {
        "id": "H_uKr4Q0pKI1"
      }
    },
    {
      "cell_type": "markdown",
      "source": [
        "### Water"
      ],
      "metadata": {
        "id": "0mXt6adFpKI8"
      }
    },
    {
      "cell_type": "code",
      "source": [],
      "metadata": {
        "id": "FNuB1F92pKI8"
      },
      "execution_count": null,
      "outputs": []
    },
    {
      "cell_type": "markdown",
      "source": [
        "### Glycerol"
      ],
      "metadata": {
        "id": "NKrzbp4RpKI8"
      }
    },
    {
      "cell_type": "code",
      "source": [],
      "metadata": {
        "id": "YaQqnKLKpKI9"
      },
      "execution_count": null,
      "outputs": []
    },
    {
      "cell_type": "code",
      "source": [],
      "metadata": {
        "id": "q7hfpHSepu_L"
      },
      "execution_count": null,
      "outputs": []
    }
  ]
}